{
 "cells": [
  {
   "cell_type": "markdown",
   "metadata": {},
   "source": [
    "Per Lily: the CPD has it's own system to flag officers they think are at high risk of doing bad things, not really sure exatly what those bad things are but that's ok. They use some metrics to flag that we don't, but use some that we do. They flag an officer with >=3 excessive use of force complaints or >=2 sustained complaints against them within a 12 month period.\n",
    "This notebook is to identify officers that meet this cutoff within 2014 in our dataset, see how many of them are y=1 by our own definition"
   ]
  },
  {
   "cell_type": "code",
   "execution_count": 1,
   "metadata": {},
   "outputs": [],
   "source": [
    "%load_ext autoreload\n",
    "%autoreload 2\n",
    "import pandas as pd\n",
    "import numpy as np\n",
    "import sys\n",
    "import os\n",
    "sys.path.insert(0, os.path.abspath(\"../pipeline\"))\n",
    "import Make_By_Officer_DF as make_officer_df\n",
    "import Feat_Engineering as feat_engineering_helpers\n",
    "import Run_Model as run_model\n",
    "import seaborn as sns\n",
    "import matplotlib.pyplot as plt\n",
    "import warnings\n",
    "warnings.filterwarnings('ignore')\n"
   ]
  },
  {
   "cell_type": "code",
   "execution_count": 2,
   "metadata": {},
   "outputs": [],
   "source": [
    "t1 = (2014, 2014)\n",
    "t2 = (2015, 2015)\n",
    "additional_cont_feat, comparison_df = make_officer_df.make_df(t1, t2)\n"
   ]
  },
  {
   "cell_type": "code",
   "execution_count": 4,
   "metadata": {},
   "outputs": [
    {
     "data": {
      "text/plain": [
       "['Pcnt Complaints Against ASIAN/PACIFIC ISLANDER',\n",
       " 'Pcnt Complaints Against BLACK',\n",
       " 'Pcnt Complaints Against HISPANIC',\n",
       " 'Pcnt Complaints Against NATIVE AMERICAN/ALASKAN NATIVE',\n",
       " 'Pcnt Complaints Against WHITE',\n",
       " 'Pcnt Complaints Against FEMALE',\n",
       " 'Pcnt Complaints Against MALE',\n",
       " 'average_salary',\n",
       " 'salary_change',\n",
       " 'settlement',\n",
       " 'trr_total',\n",
       " 'Active - Firearm',\n",
       " 'Active - Non-Lethal Weapon',\n",
       " 'Active - Other',\n",
       " 'Active - Physical Force',\n",
       " 'Passive - Non-Lethal Weapon',\n",
       " 'Passive - Other',\n",
       " 'Passive - Physical Force',\n",
       " 'Non-Violent Civilian Contact',\n",
       " 'Officer Drug Use/Possession',\n",
       " 'Other/Unknown',\n",
       " 'Racial/Ethnic',\n",
       " 'Use of Force - No Weapon',\n",
       " 'Use of Force - Weapon',\n",
       " 'count_sustained',\n",
       " 'suspension_length',\n",
       " 'officer_filed_complaints']"
      ]
     },
     "execution_count": 4,
     "metadata": {},
     "output_type": "execute_result"
    }
   ],
   "source": [
    "additional_cont_feat"
   ]
  },
  {
   "cell_type": "code",
   "execution_count": 9,
   "metadata": {},
   "outputs": [],
   "source": [
    "desired_targets = ['target_use_of_force', 'target_drug', 'target_racial',\n",
    "                   'target_sustained', 'target_nonviolent']\n",
    "target_col = \"any_known_complaint\"\n",
    "feat_engineering_helpers.make_target_col(comparison_df, desired_targets, target_col)"
   ]
  },
  {
   "cell_type": "code",
   "execution_count": 11,
   "metadata": {},
   "outputs": [],
   "source": [
    "meets_count_sustained_threshold = comparison_df[\"count_sustained\"]>=2\n",
    "meets_excessive_force_threshold = (comparison_df[\"Use of Force - No Weapon\"]+ \n",
    "                                   comparison_df[\"Use of Force - Weapon\"])>=3 \n",
    "CPD_flagged = comparison_df[meets_count_sustained_threshold | meets_excessive_force_threshold]"
   ]
  },
  {
   "cell_type": "code",
   "execution_count": 14,
   "metadata": {},
   "outputs": [
    {
     "name": "stdout",
     "output_type": "stream",
     "text": [
      "Count that CPD system flags: 8\n",
      "Number of CPD flags that are y=1: 3\n"
     ]
    }
   ],
   "source": [
    "print(\"Count that CPD system flags:\", CPD_flagged[target_col].shape[0])\n",
    "print(\"Number of CPD flags that are y=1:\", CPD_flagged[target_col].sum())"
   ]
  },
  {
   "cell_type": "code",
   "execution_count": 15,
   "metadata": {},
   "outputs": [
    {
     "data": {
      "text/plain": [
       "count    4836.000000\n",
       "mean        0.051696\n",
       "std         0.232373\n",
       "min         0.000000\n",
       "25%         0.000000\n",
       "50%         0.000000\n",
       "75%         0.000000\n",
       "max         3.000000\n",
       "Name: count_sustained, dtype: float64"
      ]
     },
     "execution_count": 15,
     "metadata": {},
     "output_type": "execute_result"
    }
   ],
   "source": [
    "comparison_df[\"count_sustained\"].describe()"
   ]
  },
  {
   "cell_type": "code",
   "execution_count": 16,
   "metadata": {},
   "outputs": [
    {
     "data": {
      "text/plain": [
       "count    240.000000\n",
       "mean       1.041667\n",
       "std        0.238399\n",
       "min        1.000000\n",
       "25%        1.000000\n",
       "50%        1.000000\n",
       "75%        1.000000\n",
       "max        3.000000\n",
       "Name: count_sustained, dtype: float64"
      ]
     },
     "execution_count": 16,
     "metadata": {},
     "output_type": "execute_result"
    }
   ],
   "source": [
    "comparison_df[comparison_df[\"count_sustained\"]>0][\"count_sustained\"].describe()"
   ]
  },
  {
   "cell_type": "code",
   "execution_count": 17,
   "metadata": {},
   "outputs": [
    {
     "data": {
      "text/plain": [
       "count_sustained\n",
       "1.0    232\n",
       "2.0      6\n",
       "3.0      2\n",
       "dtype: int64"
      ]
     },
     "execution_count": 17,
     "metadata": {},
     "output_type": "execute_result"
    }
   ],
   "source": [
    "comparison_df[comparison_df[\"count_sustained\"]>0].groupby(\"count_sustained\").size()"
   ]
  },
  {
   "cell_type": "code",
   "execution_count": 19,
   "metadata": {},
   "outputs": [
    {
     "data": {
      "text/plain": [
       "1002"
      ]
     },
     "execution_count": 19,
     "metadata": {},
     "output_type": "execute_result"
    }
   ],
   "source": [
    "comparison_df[target_col].sum()"
   ]
  },
  {
   "cell_type": "code",
   "execution_count": null,
   "metadata": {},
   "outputs": [],
   "source": []
  },
  {
   "cell_type": "code",
   "execution_count": null,
   "metadata": {},
   "outputs": [],
   "source": []
  }
 ],
 "metadata": {
  "kernelspec": {
   "display_name": "Python 3",
   "language": "python",
   "name": "python3"
  },
  "language_info": {
   "codemirror_mode": {
    "name": "ipython",
    "version": 3
   },
   "file_extension": ".py",
   "mimetype": "text/x-python",
   "name": "python",
   "nbconvert_exporter": "python",
   "pygments_lexer": "ipython3",
   "version": "3.7.6"
  }
 },
 "nbformat": 4,
 "nbformat_minor": 4
}
