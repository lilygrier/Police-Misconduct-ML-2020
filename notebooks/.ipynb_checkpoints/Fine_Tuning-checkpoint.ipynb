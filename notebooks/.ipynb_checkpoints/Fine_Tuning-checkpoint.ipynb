{
 "cells": [
  {
   "cell_type": "markdown",
   "metadata": {},
   "source": [
    "# Fine Tuning\n",
    "We are almost done"
   ]
  },
  {
   "cell_type": "code",
   "execution_count": 6,
   "metadata": {},
   "outputs": [
    {
     "name": "stdout",
     "output_type": "stream",
     "text": [
      "The autoreload extension is already loaded. To reload it, use:\n",
      "  %reload_ext autoreload\n"
     ]
    }
   ],
   "source": [
    "%load_ext autoreload\n",
    "%autoreload 2\n",
    "import pandas as pd\n",
    "import numpy as np\n",
    "import sys\n",
    "import os\n",
    "sys.path.insert(0, os.path.abspath(\"../pipeline\"))\n",
    "import Make_By_Officer_DF as make_officer_df\n",
    "import Feat_Engineering as feat_engineering_helpers\n",
    "import Run_Model as run_model\n",
    "import seaborn as sns\n",
    "import matplotlib.pyplot as plt\n",
    "import warnings\n",
    "warnings.filterwarnings('ignore')\n"
   ]
  },
  {
   "cell_type": "code",
   "execution_count": 10,
   "metadata": {},
   "outputs": [
    {
     "name": "stdout",
     "output_type": "stream",
     "text": [
      "force_bin\n",
      "Firearm                239\n",
      "Member Presence      15716\n",
      "Non-Lethal Weapon     2117\n",
      "Other                   12\n",
      "Physical Force       35431\n",
      "Taser Display          257\n",
      "Verbal Commands      16231\n",
      "dtype: int64\n",
      "Index(['Active - Firearm', 'Active - Non-Lethal Weapon', 'Active - Other',\n",
      "       'Active - Physical Force', 'Passive - Firearm',\n",
      "       'Passive - Non-Lethal Weapon', 'Passive - Other',\n",
      "       'Passive - Physical Force'],\n",
      "      dtype='object', name='force_resistance_feat')\n"
     ]
    }
   ],
   "source": [
    "t1 = (2012, 2014)\n",
    "t2 = (2015, 2015)\n",
    "additional_cont_feat, final_df = make_officer_df.make_df(t1, t2)\n"
   ]
  },
  {
   "cell_type": "code",
   "execution_count": 14,
   "metadata": {},
   "outputs": [
    {
     "data": {
      "text/plain": [
       "['birth_year',\n",
       " 'start_date_timestamp',\n",
       " 'Pcnt Complaints Against ASIAN/PACIFIC ISLANDER',\n",
       " 'Pcnt Complaints Against BLACK',\n",
       " 'Pcnt Complaints Against HISPANIC',\n",
       " 'Pcnt Complaints Against NATIVE AMERICAN/ALASKAN NATIVE',\n",
       " 'Pcnt Complaints Against WHITE',\n",
       " 'Pcnt Complaints Against FEMALE',\n",
       " 'Pcnt Complaints Against MALE',\n",
       " 'average_salary',\n",
       " 'salary_change',\n",
       " 'settlement',\n",
       " 'trr_total',\n",
       " 'Active - Firearm',\n",
       " 'Active - Non-Lethal Weapon',\n",
       " 'Active - Other',\n",
       " 'Active - Physical Force',\n",
       " 'Passive - Firearm',\n",
       " 'Passive - Non-Lethal Weapon',\n",
       " 'Passive - Other',\n",
       " 'Passive - Physical Force',\n",
       " 'Non-Violent Civilian Contact',\n",
       " 'Officer Drug Use/Possession',\n",
       " 'Other/Unknown',\n",
       " 'Racial/Ethnic',\n",
       " 'Use of Force - No Weapon',\n",
       " 'Use of Force - Weapon',\n",
       " 'count_sustained',\n",
       " 'suspension_length']"
      ]
     },
     "execution_count": 14,
     "metadata": {},
     "output_type": "execute_result"
    }
   ],
   "source": [
    "cont_feat = [\"birth_year\", \"start_date_timestamp\"]\n",
    "cont_feat.extend(additional_cont_feat)\n",
    "cat_feat = [\"gender\", \"race\", ]\n",
    "\n",
    "desired_targets = ['target_use_of_force', 'target_drug', 'target_racial',\n",
    "                   'target_sustained', 'target_nonviolent']\n",
    "target_col = \"any_known_complaint\"\n",
    "feat_engineering_helpers.make_target_col(final_df, desired_targets, target_col)"
   ]
  },
  {
   "cell_type": "code",
   "execution_count": null,
   "metadata": {},
   "outputs": [],
   "source": [
    "rf, rf_feature_importances =  run_model.single_model(final_df, \"RandomForest\", \n",
    "                                                     target_col, cont_feat, cat_feat, \"balanced_accuracy\")"
   ]
  }
 ],
 "metadata": {
  "kernelspec": {
   "display_name": "Python 3",
   "language": "python",
   "name": "python3"
  },
  "language_info": {
   "codemirror_mode": {
    "name": "ipython",
    "version": 3
   },
   "file_extension": ".py",
   "mimetype": "text/x-python",
   "name": "python",
   "nbconvert_exporter": "python",
   "pygments_lexer": "ipython3",
   "version": "3.7.6"
  }
 },
 "nbformat": 4,
 "nbformat_minor": 4
}
